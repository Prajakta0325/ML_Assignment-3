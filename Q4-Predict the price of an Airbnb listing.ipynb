{
 "cells": [
  {
   "cell_type": "code",
   "execution_count": 104,
   "id": "525b2fb9",
   "metadata": {},
   "outputs": [],
   "source": [
    "import pandas as pd\n",
    "import numpy as np\n",
    "import matplotlib.pyplot as plt\n",
    "import seaborn as sns\n",
    "import warnings\n",
    "warnings.filterwarnings('ignore')"
   ]
  },
  {
   "cell_type": "markdown",
   "id": "ff8b2ebf",
   "metadata": {},
   "source": [
    "## Step 2: Load dataset"
   ]
  },
  {
   "cell_type": "code",
   "execution_count": 105,
   "id": "4e940001",
   "metadata": {},
   "outputs": [
    {
     "data": {
      "text/html": [
       "<div>\n",
       "<style scoped>\n",
       "    .dataframe tbody tr th:only-of-type {\n",
       "        vertical-align: middle;\n",
       "    }\n",
       "\n",
       "    .dataframe tbody tr th {\n",
       "        vertical-align: top;\n",
       "    }\n",
       "\n",
       "    .dataframe thead th {\n",
       "        text-align: right;\n",
       "    }\n",
       "</style>\n",
       "<table border=\"1\" class=\"dataframe\">\n",
       "  <thead>\n",
       "    <tr style=\"text-align: right;\">\n",
       "      <th></th>\n",
       "      <th>id</th>\n",
       "      <th>name</th>\n",
       "      <th>host_id</th>\n",
       "      <th>host_name</th>\n",
       "      <th>neighbourhood_group</th>\n",
       "      <th>neighbourhood</th>\n",
       "      <th>latitude</th>\n",
       "      <th>longitude</th>\n",
       "      <th>room_type</th>\n",
       "      <th>minimum_nights</th>\n",
       "      <th>number_of_reviews</th>\n",
       "      <th>last_review</th>\n",
       "      <th>reviews_per_month</th>\n",
       "      <th>calculated_host_listings_count</th>\n",
       "      <th>availability_365</th>\n",
       "      <th>price</th>\n",
       "    </tr>\n",
       "  </thead>\n",
       "  <tbody>\n",
       "    <tr>\n",
       "      <th>0</th>\n",
       "      <td>11602914</td>\n",
       "      <td>Luxury home 100m2+garden in center!</td>\n",
       "      <td>3123809</td>\n",
       "      <td>Marjolein</td>\n",
       "      <td>NaN</td>\n",
       "      <td>De Pijp - Rivierenbuurt</td>\n",
       "      <td>52.35368</td>\n",
       "      <td>4.90177</td>\n",
       "      <td>Entire home/apt</td>\n",
       "      <td>3</td>\n",
       "      <td>13</td>\n",
       "      <td>15-02-2020</td>\n",
       "      <td>0.27</td>\n",
       "      <td>1</td>\n",
       "      <td>0</td>\n",
       "      <td>220</td>\n",
       "    </tr>\n",
       "    <tr>\n",
       "      <th>1</th>\n",
       "      <td>13289321</td>\n",
       "      <td>East is where your home is!</td>\n",
       "      <td>10259430</td>\n",
       "      <td>Ana</td>\n",
       "      <td>NaN</td>\n",
       "      <td>Oud-Oost</td>\n",
       "      <td>52.35728</td>\n",
       "      <td>4.92052</td>\n",
       "      <td>Entire home/apt</td>\n",
       "      <td>4</td>\n",
       "      <td>14</td>\n",
       "      <td>19-06-2019</td>\n",
       "      <td>0.29</td>\n",
       "      <td>1</td>\n",
       "      <td>0</td>\n",
       "      <td>110</td>\n",
       "    </tr>\n",
       "    <tr>\n",
       "      <th>2</th>\n",
       "      <td>40779315</td>\n",
       "      <td>Amsterdam Central - LUXURY house in BUSY STREET</td>\n",
       "      <td>224969266</td>\n",
       "      <td>Mark</td>\n",
       "      <td>NaN</td>\n",
       "      <td>Centrum-West</td>\n",
       "      <td>52.37582</td>\n",
       "      <td>4.89850</td>\n",
       "      <td>Entire home/apt</td>\n",
       "      <td>2</td>\n",
       "      <td>9</td>\n",
       "      <td>16-03-2020</td>\n",
       "      <td>1.65</td>\n",
       "      <td>1</td>\n",
       "      <td>7</td>\n",
       "      <td>100</td>\n",
       "    </tr>\n",
       "    <tr>\n",
       "      <th>3</th>\n",
       "      <td>7820311</td>\n",
       "      <td>great appartment down town</td>\n",
       "      <td>693472</td>\n",
       "      <td>Ayden</td>\n",
       "      <td>NaN</td>\n",
       "      <td>Westerpark</td>\n",
       "      <td>52.37792</td>\n",
       "      <td>4.87300</td>\n",
       "      <td>Entire home/apt</td>\n",
       "      <td>3</td>\n",
       "      <td>42</td>\n",
       "      <td>17-02-2020</td>\n",
       "      <td>0.72</td>\n",
       "      <td>1</td>\n",
       "      <td>0</td>\n",
       "      <td>130</td>\n",
       "    </tr>\n",
       "    <tr>\n",
       "      <th>4</th>\n",
       "      <td>27346603</td>\n",
       "      <td>Private room with canal view in peaceful area</td>\n",
       "      <td>41888346</td>\n",
       "      <td>Alissa</td>\n",
       "      <td>NaN</td>\n",
       "      <td>Westerpark</td>\n",
       "      <td>52.38051</td>\n",
       "      <td>4.87493</td>\n",
       "      <td>Private room</td>\n",
       "      <td>2</td>\n",
       "      <td>89</td>\n",
       "      <td>26-02-2020</td>\n",
       "      <td>4.02</td>\n",
       "      <td>1</td>\n",
       "      <td>24</td>\n",
       "      <td>90</td>\n",
       "    </tr>\n",
       "  </tbody>\n",
       "</table>\n",
       "</div>"
      ],
      "text/plain": [
       "         id                                             name    host_id  \\\n",
       "0  11602914              Luxury home 100m2+garden in center!    3123809   \n",
       "1  13289321                      East is where your home is!   10259430   \n",
       "2  40779315  Amsterdam Central - LUXURY house in BUSY STREET  224969266   \n",
       "3   7820311                       great appartment down town     693472   \n",
       "4  27346603    Private room with canal view in peaceful area   41888346   \n",
       "\n",
       "   host_name  neighbourhood_group            neighbourhood  latitude  \\\n",
       "0  Marjolein                  NaN  De Pijp - Rivierenbuurt  52.35368   \n",
       "1        Ana                  NaN                 Oud-Oost  52.35728   \n",
       "2       Mark                  NaN             Centrum-West  52.37582   \n",
       "3      Ayden                  NaN               Westerpark  52.37792   \n",
       "4     Alissa                  NaN               Westerpark  52.38051   \n",
       "\n",
       "   longitude        room_type  minimum_nights  number_of_reviews last_review  \\\n",
       "0    4.90177  Entire home/apt               3                 13  15-02-2020   \n",
       "1    4.92052  Entire home/apt               4                 14  19-06-2019   \n",
       "2    4.89850  Entire home/apt               2                  9  16-03-2020   \n",
       "3    4.87300  Entire home/apt               3                 42  17-02-2020   \n",
       "4    4.87493     Private room               2                 89  26-02-2020   \n",
       "\n",
       "   reviews_per_month  calculated_host_listings_count  availability_365  price  \n",
       "0               0.27                               1                 0    220  \n",
       "1               0.29                               1                 0    110  \n",
       "2               1.65                               1                 7    100  \n",
       "3               0.72                               1                 0    130  \n",
       "4               4.02                               1                24     90  "
      ]
     },
     "execution_count": 105,
     "metadata": {},
     "output_type": "execute_result"
    }
   ],
   "source": [
    "data = pd.read_csv('airbnb_listing_train.csv')\n",
    "data.head()"
   ]
  },
  {
   "cell_type": "markdown",
   "id": "efa5f1a7",
   "metadata": {},
   "source": [
    "## Step 3: Data Cleaning, Data Preprocessing"
   ]
  },
  {
   "cell_type": "code",
   "execution_count": 106,
   "id": "b3bb77d1",
   "metadata": {},
   "outputs": [
    {
     "data": {
      "text/plain": [
       "(12901, 16)"
      ]
     },
     "execution_count": 106,
     "metadata": {},
     "output_type": "execute_result"
    }
   ],
   "source": [
    "data.shape"
   ]
  },
  {
   "cell_type": "code",
   "execution_count": 107,
   "id": "400b5783",
   "metadata": {},
   "outputs": [
    {
     "data": {
      "text/plain": [
       "id                                  int64\n",
       "name                               object\n",
       "host_id                             int64\n",
       "host_name                          object\n",
       "neighbourhood_group               float64\n",
       "neighbourhood                      object\n",
       "latitude                          float64\n",
       "longitude                         float64\n",
       "room_type                          object\n",
       "minimum_nights                      int64\n",
       "number_of_reviews                   int64\n",
       "last_review                        object\n",
       "reviews_per_month                 float64\n",
       "calculated_host_listings_count      int64\n",
       "availability_365                    int64\n",
       "price                               int64\n",
       "dtype: object"
      ]
     },
     "execution_count": 107,
     "metadata": {},
     "output_type": "execute_result"
    }
   ],
   "source": [
    "data.dtypes"
   ]
  },
  {
   "cell_type": "code",
   "execution_count": 108,
   "id": "5e6af508",
   "metadata": {},
   "outputs": [
    {
     "data": {
      "text/plain": [
       "id                                    0\n",
       "name                                 22\n",
       "host_id                               0\n",
       "host_name                             8\n",
       "neighbourhood_group               12901\n",
       "neighbourhood                         0\n",
       "latitude                              0\n",
       "longitude                             0\n",
       "room_type                             0\n",
       "minimum_nights                        0\n",
       "number_of_reviews                     0\n",
       "last_review                        1596\n",
       "reviews_per_month                  1596\n",
       "calculated_host_listings_count        0\n",
       "availability_365                      0\n",
       "price                                 0\n",
       "dtype: int64"
      ]
     },
     "execution_count": 108,
     "metadata": {},
     "output_type": "execute_result"
    }
   ],
   "source": [
    "data.isnull().sum()"
   ]
  },
  {
   "cell_type": "markdown",
   "id": "658ffa16",
   "metadata": {},
   "source": [
    "### Observation:\n",
    "- neighbourhood_group column has 100% NaN value so removed it.\n",
    "- fill the missing or NaN value in other column"
   ]
  },
  {
   "cell_type": "code",
   "execution_count": 109,
   "id": "611ff577",
   "metadata": {},
   "outputs": [
    {
     "data": {
      "text/html": [
       "<div>\n",
       "<style scoped>\n",
       "    .dataframe tbody tr th:only-of-type {\n",
       "        vertical-align: middle;\n",
       "    }\n",
       "\n",
       "    .dataframe tbody tr th {\n",
       "        vertical-align: top;\n",
       "    }\n",
       "\n",
       "    .dataframe thead th {\n",
       "        text-align: right;\n",
       "    }\n",
       "</style>\n",
       "<table border=\"1\" class=\"dataframe\">\n",
       "  <thead>\n",
       "    <tr style=\"text-align: right;\">\n",
       "      <th></th>\n",
       "      <th>id</th>\n",
       "      <th>name</th>\n",
       "      <th>host_id</th>\n",
       "      <th>host_name</th>\n",
       "      <th>neighbourhood</th>\n",
       "      <th>latitude</th>\n",
       "      <th>longitude</th>\n",
       "      <th>room_type</th>\n",
       "      <th>minimum_nights</th>\n",
       "      <th>number_of_reviews</th>\n",
       "      <th>last_review</th>\n",
       "      <th>reviews_per_month</th>\n",
       "      <th>calculated_host_listings_count</th>\n",
       "      <th>availability_365</th>\n",
       "      <th>price</th>\n",
       "    </tr>\n",
       "  </thead>\n",
       "  <tbody>\n",
       "    <tr>\n",
       "      <th>0</th>\n",
       "      <td>11602914</td>\n",
       "      <td>Luxury home 100m2+garden in center!</td>\n",
       "      <td>3123809</td>\n",
       "      <td>Marjolein</td>\n",
       "      <td>De Pijp - Rivierenbuurt</td>\n",
       "      <td>52.35368</td>\n",
       "      <td>4.90177</td>\n",
       "      <td>Entire home/apt</td>\n",
       "      <td>3</td>\n",
       "      <td>13</td>\n",
       "      <td>15-02-2020</td>\n",
       "      <td>0.27</td>\n",
       "      <td>1</td>\n",
       "      <td>0</td>\n",
       "      <td>220</td>\n",
       "    </tr>\n",
       "    <tr>\n",
       "      <th>1</th>\n",
       "      <td>13289321</td>\n",
       "      <td>East is where your home is!</td>\n",
       "      <td>10259430</td>\n",
       "      <td>Ana</td>\n",
       "      <td>Oud-Oost</td>\n",
       "      <td>52.35728</td>\n",
       "      <td>4.92052</td>\n",
       "      <td>Entire home/apt</td>\n",
       "      <td>4</td>\n",
       "      <td>14</td>\n",
       "      <td>19-06-2019</td>\n",
       "      <td>0.29</td>\n",
       "      <td>1</td>\n",
       "      <td>0</td>\n",
       "      <td>110</td>\n",
       "    </tr>\n",
       "    <tr>\n",
       "      <th>2</th>\n",
       "      <td>40779315</td>\n",
       "      <td>Amsterdam Central - LUXURY house in BUSY STREET</td>\n",
       "      <td>224969266</td>\n",
       "      <td>Mark</td>\n",
       "      <td>Centrum-West</td>\n",
       "      <td>52.37582</td>\n",
       "      <td>4.89850</td>\n",
       "      <td>Entire home/apt</td>\n",
       "      <td>2</td>\n",
       "      <td>9</td>\n",
       "      <td>16-03-2020</td>\n",
       "      <td>1.65</td>\n",
       "      <td>1</td>\n",
       "      <td>7</td>\n",
       "      <td>100</td>\n",
       "    </tr>\n",
       "    <tr>\n",
       "      <th>3</th>\n",
       "      <td>7820311</td>\n",
       "      <td>great appartment down town</td>\n",
       "      <td>693472</td>\n",
       "      <td>Ayden</td>\n",
       "      <td>Westerpark</td>\n",
       "      <td>52.37792</td>\n",
       "      <td>4.87300</td>\n",
       "      <td>Entire home/apt</td>\n",
       "      <td>3</td>\n",
       "      <td>42</td>\n",
       "      <td>17-02-2020</td>\n",
       "      <td>0.72</td>\n",
       "      <td>1</td>\n",
       "      <td>0</td>\n",
       "      <td>130</td>\n",
       "    </tr>\n",
       "    <tr>\n",
       "      <th>4</th>\n",
       "      <td>27346603</td>\n",
       "      <td>Private room with canal view in peaceful area</td>\n",
       "      <td>41888346</td>\n",
       "      <td>Alissa</td>\n",
       "      <td>Westerpark</td>\n",
       "      <td>52.38051</td>\n",
       "      <td>4.87493</td>\n",
       "      <td>Private room</td>\n",
       "      <td>2</td>\n",
       "      <td>89</td>\n",
       "      <td>26-02-2020</td>\n",
       "      <td>4.02</td>\n",
       "      <td>1</td>\n",
       "      <td>24</td>\n",
       "      <td>90</td>\n",
       "    </tr>\n",
       "  </tbody>\n",
       "</table>\n",
       "</div>"
      ],
      "text/plain": [
       "         id                                             name    host_id  \\\n",
       "0  11602914              Luxury home 100m2+garden in center!    3123809   \n",
       "1  13289321                      East is where your home is!   10259430   \n",
       "2  40779315  Amsterdam Central - LUXURY house in BUSY STREET  224969266   \n",
       "3   7820311                       great appartment down town     693472   \n",
       "4  27346603    Private room with canal view in peaceful area   41888346   \n",
       "\n",
       "   host_name            neighbourhood  latitude  longitude        room_type  \\\n",
       "0  Marjolein  De Pijp - Rivierenbuurt  52.35368    4.90177  Entire home/apt   \n",
       "1        Ana                 Oud-Oost  52.35728    4.92052  Entire home/apt   \n",
       "2       Mark             Centrum-West  52.37582    4.89850  Entire home/apt   \n",
       "3      Ayden               Westerpark  52.37792    4.87300  Entire home/apt   \n",
       "4     Alissa               Westerpark  52.38051    4.87493     Private room   \n",
       "\n",
       "   minimum_nights  number_of_reviews last_review  reviews_per_month  \\\n",
       "0               3                 13  15-02-2020               0.27   \n",
       "1               4                 14  19-06-2019               0.29   \n",
       "2               2                  9  16-03-2020               1.65   \n",
       "3               3                 42  17-02-2020               0.72   \n",
       "4               2                 89  26-02-2020               4.02   \n",
       "\n",
       "   calculated_host_listings_count  availability_365  price  \n",
       "0                               1                 0    220  \n",
       "1                               1                 0    110  \n",
       "2                               1                 7    100  \n",
       "3                               1                 0    130  \n",
       "4                               1                24     90  "
      ]
     },
     "execution_count": 109,
     "metadata": {},
     "output_type": "execute_result"
    }
   ],
   "source": [
    "data = data.drop('neighbourhood_group', axis=1)\n",
    "data.head()"
   ]
  },
  {
   "cell_type": "markdown",
   "id": "98bfa214",
   "metadata": {},
   "source": [
    "- missing value treatment"
   ]
  },
  {
   "cell_type": "code",
   "execution_count": 110,
   "id": "70a04c17",
   "metadata": {},
   "outputs": [
    {
     "data": {
      "text/plain": [
       "Index(['id', 'name', 'host_id', 'host_name', 'neighbourhood', 'latitude',\n",
       "       'longitude', 'room_type', 'minimum_nights', 'number_of_reviews',\n",
       "       'last_review', 'reviews_per_month', 'calculated_host_listings_count',\n",
       "       'availability_365', 'price'],\n",
       "      dtype='object')"
      ]
     },
     "execution_count": 110,
     "metadata": {},
     "output_type": "execute_result"
    }
   ],
   "source": [
    "data.columns"
   ]
  },
  {
   "cell_type": "markdown",
   "id": "0d7af106",
   "metadata": {},
   "source": [
    "- 'name', 'host_name','last_review', 'reviews_per_month' has missing value"
   ]
  },
  {
   "cell_type": "code",
   "execution_count": 111,
   "id": "2864d514",
   "metadata": {},
   "outputs": [
    {
     "data": {
      "text/plain": [
       "id                                0\n",
       "name                              0\n",
       "host_id                           0\n",
       "host_name                         0\n",
       "neighbourhood                     0\n",
       "latitude                          0\n",
       "longitude                         0\n",
       "room_type                         0\n",
       "minimum_nights                    0\n",
       "number_of_reviews                 0\n",
       "last_review                       0\n",
       "reviews_per_month                 0\n",
       "calculated_host_listings_count    0\n",
       "availability_365                  0\n",
       "price                             0\n",
       "dtype: int64"
      ]
     },
     "execution_count": 111,
     "metadata": {},
     "output_type": "execute_result"
    }
   ],
   "source": [
    "data['name'] = data['name'].fillna(data['name'].mode()[0])\n",
    "data['host_name'] = data['host_name'].fillna(data['host_name'].mode()[0])\n",
    "data['last_review'] = data['last_review'].fillna(data['last_review'].mode()[0])\n",
    "\n",
    "data['reviews_per_month'] = data['reviews_per_month'].fillna(data['reviews_per_month'].mean())\n",
    "data.isnull().sum()"
   ]
  },
  {
   "cell_type": "markdown",
   "id": "70544cb9",
   "metadata": {},
   "source": [
    "### Observation:\n",
    "- price is dependent/ Target variable\n",
    "- check the relation between dependent and independent column/variable"
   ]
  },
  {
   "cell_type": "code",
   "execution_count": 112,
   "id": "b96c9c0c",
   "metadata": {},
   "outputs": [
    {
     "data": {
      "text/html": [
       "<div>\n",
       "<style scoped>\n",
       "    .dataframe tbody tr th:only-of-type {\n",
       "        vertical-align: middle;\n",
       "    }\n",
       "\n",
       "    .dataframe tbody tr th {\n",
       "        vertical-align: top;\n",
       "    }\n",
       "\n",
       "    .dataframe thead th {\n",
       "        text-align: right;\n",
       "    }\n",
       "</style>\n",
       "<table border=\"1\" class=\"dataframe\">\n",
       "  <thead>\n",
       "    <tr style=\"text-align: right;\">\n",
       "      <th></th>\n",
       "      <th>id</th>\n",
       "      <th>host_id</th>\n",
       "      <th>neighbourhood</th>\n",
       "      <th>room_type</th>\n",
       "      <th>minimum_nights</th>\n",
       "      <th>number_of_reviews</th>\n",
       "      <th>reviews_per_month</th>\n",
       "      <th>calculated_host_listings_count</th>\n",
       "      <th>availability_365</th>\n",
       "      <th>price</th>\n",
       "    </tr>\n",
       "  </thead>\n",
       "  <tbody>\n",
       "    <tr>\n",
       "      <th>0</th>\n",
       "      <td>11602914</td>\n",
       "      <td>3123809</td>\n",
       "      <td>De Pijp - Rivierenbuurt</td>\n",
       "      <td>Entire home/apt</td>\n",
       "      <td>3</td>\n",
       "      <td>13</td>\n",
       "      <td>0.27</td>\n",
       "      <td>1</td>\n",
       "      <td>0</td>\n",
       "      <td>220</td>\n",
       "    </tr>\n",
       "    <tr>\n",
       "      <th>1</th>\n",
       "      <td>13289321</td>\n",
       "      <td>10259430</td>\n",
       "      <td>Oud-Oost</td>\n",
       "      <td>Entire home/apt</td>\n",
       "      <td>4</td>\n",
       "      <td>14</td>\n",
       "      <td>0.29</td>\n",
       "      <td>1</td>\n",
       "      <td>0</td>\n",
       "      <td>110</td>\n",
       "    </tr>\n",
       "    <tr>\n",
       "      <th>2</th>\n",
       "      <td>40779315</td>\n",
       "      <td>224969266</td>\n",
       "      <td>Centrum-West</td>\n",
       "      <td>Entire home/apt</td>\n",
       "      <td>2</td>\n",
       "      <td>9</td>\n",
       "      <td>1.65</td>\n",
       "      <td>1</td>\n",
       "      <td>7</td>\n",
       "      <td>100</td>\n",
       "    </tr>\n",
       "    <tr>\n",
       "      <th>3</th>\n",
       "      <td>7820311</td>\n",
       "      <td>693472</td>\n",
       "      <td>Westerpark</td>\n",
       "      <td>Entire home/apt</td>\n",
       "      <td>3</td>\n",
       "      <td>42</td>\n",
       "      <td>0.72</td>\n",
       "      <td>1</td>\n",
       "      <td>0</td>\n",
       "      <td>130</td>\n",
       "    </tr>\n",
       "    <tr>\n",
       "      <th>4</th>\n",
       "      <td>27346603</td>\n",
       "      <td>41888346</td>\n",
       "      <td>Westerpark</td>\n",
       "      <td>Private room</td>\n",
       "      <td>2</td>\n",
       "      <td>89</td>\n",
       "      <td>4.02</td>\n",
       "      <td>1</td>\n",
       "      <td>24</td>\n",
       "      <td>90</td>\n",
       "    </tr>\n",
       "  </tbody>\n",
       "</table>\n",
       "</div>"
      ],
      "text/plain": [
       "         id    host_id            neighbourhood        room_type  \\\n",
       "0  11602914    3123809  De Pijp - Rivierenbuurt  Entire home/apt   \n",
       "1  13289321   10259430                 Oud-Oost  Entire home/apt   \n",
       "2  40779315  224969266             Centrum-West  Entire home/apt   \n",
       "3   7820311     693472               Westerpark  Entire home/apt   \n",
       "4  27346603   41888346               Westerpark     Private room   \n",
       "\n",
       "   minimum_nights  number_of_reviews  reviews_per_month  \\\n",
       "0               3                 13               0.27   \n",
       "1               4                 14               0.29   \n",
       "2               2                  9               1.65   \n",
       "3               3                 42               0.72   \n",
       "4               2                 89               4.02   \n",
       "\n",
       "   calculated_host_listings_count  availability_365  price  \n",
       "0                               1                 0    220  \n",
       "1                               1                 0    110  \n",
       "2                               1                 7    100  \n",
       "3                               1                 0    130  \n",
       "4                               1                24     90  "
      ]
     },
     "execution_count": 112,
     "metadata": {},
     "output_type": "execute_result"
    }
   ],
   "source": [
    "# remove unnecessary column\n",
    "\n",
    "data= data.drop(['last_review','latitude','longitude','name','host_name'],axis=1)\n",
    "data.head()"
   ]
  },
  {
   "cell_type": "code",
   "execution_count": 113,
   "id": "b30408ee",
   "metadata": {},
   "outputs": [
    {
     "data": {
      "image/png": "[encoded data removed]",
      "text/plain": [
       "<Figure size 640x480 with 2 Axes>"
      ]
     },
     "metadata": {},
     "output_type": "display_data"
    }
   ],
   "source": [
    "sns.heatmap(data.corr(),annot=True)\n",
    "plt.show()"
   ]
  },
  {
   "cell_type": "markdown",
   "id": "6d4a11e9",
   "metadata": {},
   "source": [
    "- here relation between number_of_reviews (independent variable) and price (dependent variable) is very less i.e. -0.035\n",
    "- here relation between reviews_per_month (independent variable) and price (dependent variable) is very less i.e. -0.0023\n",
    "- so remove these column"
   ]
  },
  {
   "cell_type": "code",
   "execution_count": 114,
   "id": "2c6d7b63",
   "metadata": {},
   "outputs": [
    {
     "data": {
      "text/html": [
       "<div>\n",
       "<style scoped>\n",
       "    .dataframe tbody tr th:only-of-type {\n",
       "        vertical-align: middle;\n",
       "    }\n",
       "\n",
       "    .dataframe tbody tr th {\n",
       "        vertical-align: top;\n",
       "    }\n",
       "\n",
       "    .dataframe thead th {\n",
       "        text-align: right;\n",
       "    }\n",
       "</style>\n",
       "<table border=\"1\" class=\"dataframe\">\n",
       "  <thead>\n",
       "    <tr style=\"text-align: right;\">\n",
       "      <th></th>\n",
       "      <th>id</th>\n",
       "      <th>host_id</th>\n",
       "      <th>neighbourhood</th>\n",
       "      <th>room_type</th>\n",
       "      <th>minimum_nights</th>\n",
       "      <th>calculated_host_listings_count</th>\n",
       "      <th>availability_365</th>\n",
       "      <th>price</th>\n",
       "    </tr>\n",
       "  </thead>\n",
       "  <tbody>\n",
       "    <tr>\n",
       "      <th>0</th>\n",
       "      <td>11602914</td>\n",
       "      <td>3123809</td>\n",
       "      <td>De Pijp - Rivierenbuurt</td>\n",
       "      <td>Entire home/apt</td>\n",
       "      <td>3</td>\n",
       "      <td>1</td>\n",
       "      <td>0</td>\n",
       "      <td>220</td>\n",
       "    </tr>\n",
       "    <tr>\n",
       "      <th>1</th>\n",
       "      <td>13289321</td>\n",
       "      <td>10259430</td>\n",
       "      <td>Oud-Oost</td>\n",
       "      <td>Entire home/apt</td>\n",
       "      <td>4</td>\n",
       "      <td>1</td>\n",
       "      <td>0</td>\n",
       "      <td>110</td>\n",
       "    </tr>\n",
       "    <tr>\n",
       "      <th>2</th>\n",
       "      <td>40779315</td>\n",
       "      <td>224969266</td>\n",
       "      <td>Centrum-West</td>\n",
       "      <td>Entire home/apt</td>\n",
       "      <td>2</td>\n",
       "      <td>1</td>\n",
       "      <td>7</td>\n",
       "      <td>100</td>\n",
       "    </tr>\n",
       "    <tr>\n",
       "      <th>3</th>\n",
       "      <td>7820311</td>\n",
       "      <td>693472</td>\n",
       "      <td>Westerpark</td>\n",
       "      <td>Entire home/apt</td>\n",
       "      <td>3</td>\n",
       "      <td>1</td>\n",
       "      <td>0</td>\n",
       "      <td>130</td>\n",
       "    </tr>\n",
       "    <tr>\n",
       "      <th>4</th>\n",
       "      <td>27346603</td>\n",
       "      <td>41888346</td>\n",
       "      <td>Westerpark</td>\n",
       "      <td>Private room</td>\n",
       "      <td>2</td>\n",
       "      <td>1</td>\n",
       "      <td>24</td>\n",
       "      <td>90</td>\n",
       "    </tr>\n",
       "  </tbody>\n",
       "</table>\n",
       "</div>"
      ],
      "text/plain": [
       "         id    host_id            neighbourhood        room_type  \\\n",
       "0  11602914    3123809  De Pijp - Rivierenbuurt  Entire home/apt   \n",
       "1  13289321   10259430                 Oud-Oost  Entire home/apt   \n",
       "2  40779315  224969266             Centrum-West  Entire home/apt   \n",
       "3   7820311     693472               Westerpark  Entire home/apt   \n",
       "4  27346603   41888346               Westerpark     Private room   \n",
       "\n",
       "   minimum_nights  calculated_host_listings_count  availability_365  price  \n",
       "0               3                               1                 0    220  \n",
       "1               4                               1                 0    110  \n",
       "2               2                               1                 7    100  \n",
       "3               3                               1                 0    130  \n",
       "4               2                               1                24     90  "
      ]
     },
     "execution_count": 114,
     "metadata": {},
     "output_type": "execute_result"
    }
   ],
   "source": [
    "data = data.drop(['number_of_reviews','reviews_per_month'],axis=1)\n",
    "data.head()"
   ]
  },
  {
   "cell_type": "markdown",
   "id": "194a6502",
   "metadata": {},
   "source": [
    "### Apply Feature scaling and feature encoding"
   ]
  },
  {
   "cell_type": "code",
   "execution_count": 115,
   "id": "f601c08f",
   "metadata": {},
   "outputs": [
    {
     "data": {
      "text/plain": [
       "StandardScaler()"
      ]
     },
     "execution_count": 115,
     "metadata": {},
     "output_type": "execute_result"
    }
   ],
   "source": [
    "from sklearn.preprocessing import StandardScaler\n",
    "ss = StandardScaler()\n",
    "ss"
   ]
  },
  {
   "cell_type": "code",
   "execution_count": 116,
   "id": "e9e67826",
   "metadata": {},
   "outputs": [
    {
     "data": {
      "text/html": [
       "<div>\n",
       "<style scoped>\n",
       "    .dataframe tbody tr th:only-of-type {\n",
       "        vertical-align: middle;\n",
       "    }\n",
       "\n",
       "    .dataframe tbody tr th {\n",
       "        vertical-align: top;\n",
       "    }\n",
       "\n",
       "    .dataframe thead th {\n",
       "        text-align: right;\n",
       "    }\n",
       "</style>\n",
       "<table border=\"1\" class=\"dataframe\">\n",
       "  <thead>\n",
       "    <tr style=\"text-align: right;\">\n",
       "      <th></th>\n",
       "      <th>id</th>\n",
       "      <th>host_id</th>\n",
       "      <th>neighbourhood</th>\n",
       "      <th>room_type</th>\n",
       "      <th>minimum_nights</th>\n",
       "      <th>calculated_host_listings_count</th>\n",
       "      <th>availability_365</th>\n",
       "      <th>price</th>\n",
       "    </tr>\n",
       "  </thead>\n",
       "  <tbody>\n",
       "    <tr>\n",
       "      <th>0</th>\n",
       "      <td>11602914</td>\n",
       "      <td>3123809</td>\n",
       "      <td>De Pijp - Rivierenbuurt</td>\n",
       "      <td>Entire home/apt</td>\n",
       "      <td>-0.035801</td>\n",
       "      <td>-0.189366</td>\n",
       "      <td>-0.568531</td>\n",
       "      <td>0.225910</td>\n",
       "    </tr>\n",
       "    <tr>\n",
       "      <th>1</th>\n",
       "      <td>13289321</td>\n",
       "      <td>10259430</td>\n",
       "      <td>Oud-Oost</td>\n",
       "      <td>Entire home/apt</td>\n",
       "      <td>0.030190</td>\n",
       "      <td>-0.189366</td>\n",
       "      <td>-0.568531</td>\n",
       "      <td>-0.242602</td>\n",
       "    </tr>\n",
       "    <tr>\n",
       "      <th>2</th>\n",
       "      <td>40779315</td>\n",
       "      <td>224969266</td>\n",
       "      <td>Centrum-West</td>\n",
       "      <td>Entire home/apt</td>\n",
       "      <td>-0.101793</td>\n",
       "      <td>-0.189366</td>\n",
       "      <td>-0.503706</td>\n",
       "      <td>-0.285194</td>\n",
       "    </tr>\n",
       "    <tr>\n",
       "      <th>3</th>\n",
       "      <td>7820311</td>\n",
       "      <td>693472</td>\n",
       "      <td>Westerpark</td>\n",
       "      <td>Entire home/apt</td>\n",
       "      <td>-0.035801</td>\n",
       "      <td>-0.189366</td>\n",
       "      <td>-0.568531</td>\n",
       "      <td>-0.157418</td>\n",
       "    </tr>\n",
       "    <tr>\n",
       "      <th>4</th>\n",
       "      <td>27346603</td>\n",
       "      <td>41888346</td>\n",
       "      <td>Westerpark</td>\n",
       "      <td>Private room</td>\n",
       "      <td>-0.101793</td>\n",
       "      <td>-0.189366</td>\n",
       "      <td>-0.346276</td>\n",
       "      <td>-0.327787</td>\n",
       "    </tr>\n",
       "  </tbody>\n",
       "</table>\n",
       "</div>"
      ],
      "text/plain": [
       "         id    host_id            neighbourhood        room_type  \\\n",
       "0  11602914    3123809  De Pijp - Rivierenbuurt  Entire home/apt   \n",
       "1  13289321   10259430                 Oud-Oost  Entire home/apt   \n",
       "2  40779315  224969266             Centrum-West  Entire home/apt   \n",
       "3   7820311     693472               Westerpark  Entire home/apt   \n",
       "4  27346603   41888346               Westerpark     Private room   \n",
       "\n",
       "   minimum_nights  calculated_host_listings_count  availability_365     price  \n",
       "0       -0.035801                       -0.189366         -0.568531  0.225910  \n",
       "1        0.030190                       -0.189366         -0.568531 -0.242602  \n",
       "2       -0.101793                       -0.189366         -0.503706 -0.285194  \n",
       "3       -0.035801                       -0.189366         -0.568531 -0.157418  \n",
       "4       -0.101793                       -0.189366         -0.346276 -0.327787  "
      ]
     },
     "execution_count": 116,
     "metadata": {},
     "output_type": "execute_result"
    }
   ],
   "source": [
    "data[['minimum_nights','calculated_host_listings_count','availability_365','price']] = ss.fit_transform(data[['minimum_nights','calculated_host_listings_count','availability_365','price']])\n",
    "data.head()"
   ]
  },
  {
   "cell_type": "code",
   "execution_count": 117,
   "id": "4d6c177c",
   "metadata": {},
   "outputs": [
    {
     "data": {
      "text/html": [
       "<div>\n",
       "<style scoped>\n",
       "    .dataframe tbody tr th:only-of-type {\n",
       "        vertical-align: middle;\n",
       "    }\n",
       "\n",
       "    .dataframe tbody tr th {\n",
       "        vertical-align: top;\n",
       "    }\n",
       "\n",
       "    .dataframe thead th {\n",
       "        text-align: right;\n",
       "    }\n",
       "</style>\n",
       "<table border=\"1\" class=\"dataframe\">\n",
       "  <thead>\n",
       "    <tr style=\"text-align: right;\">\n",
       "      <th></th>\n",
       "      <th>id</th>\n",
       "      <th>host_id</th>\n",
       "      <th>neighbourhood</th>\n",
       "      <th>room_type</th>\n",
       "      <th>minimum_nights</th>\n",
       "      <th>calculated_host_listings_count</th>\n",
       "      <th>availability_365</th>\n",
       "      <th>price</th>\n",
       "    </tr>\n",
       "  </thead>\n",
       "  <tbody>\n",
       "    <tr>\n",
       "      <th>0</th>\n",
       "      <td>-0.678042</td>\n",
       "      <td>-0.750180</td>\n",
       "      <td>De Pijp - Rivierenbuurt</td>\n",
       "      <td>Entire home/apt</td>\n",
       "      <td>-0.035801</td>\n",
       "      <td>-0.189366</td>\n",
       "      <td>-0.568531</td>\n",
       "      <td>0.225910</td>\n",
       "    </tr>\n",
       "    <tr>\n",
       "      <th>1</th>\n",
       "      <td>-0.539380</td>\n",
       "      <td>-0.661102</td>\n",
       "      <td>Oud-Oost</td>\n",
       "      <td>Entire home/apt</td>\n",
       "      <td>0.030190</td>\n",
       "      <td>-0.189366</td>\n",
       "      <td>-0.568531</td>\n",
       "      <td>-0.242602</td>\n",
       "    </tr>\n",
       "    <tr>\n",
       "      <th>2</th>\n",
       "      <td>1.720949</td>\n",
       "      <td>2.019252</td>\n",
       "      <td>Centrum-West</td>\n",
       "      <td>Entire home/apt</td>\n",
       "      <td>-0.101793</td>\n",
       "      <td>-0.189366</td>\n",
       "      <td>-0.503706</td>\n",
       "      <td>-0.285194</td>\n",
       "    </tr>\n",
       "    <tr>\n",
       "      <th>3</th>\n",
       "      <td>-0.989062</td>\n",
       "      <td>-0.780519</td>\n",
       "      <td>Westerpark</td>\n",
       "      <td>Entire home/apt</td>\n",
       "      <td>-0.035801</td>\n",
       "      <td>-0.189366</td>\n",
       "      <td>-0.568531</td>\n",
       "      <td>-0.157418</td>\n",
       "    </tr>\n",
       "    <tr>\n",
       "      <th>4</th>\n",
       "      <td>0.616462</td>\n",
       "      <td>-0.266259</td>\n",
       "      <td>Westerpark</td>\n",
       "      <td>Private room</td>\n",
       "      <td>-0.101793</td>\n",
       "      <td>-0.189366</td>\n",
       "      <td>-0.346276</td>\n",
       "      <td>-0.327787</td>\n",
       "    </tr>\n",
       "  </tbody>\n",
       "</table>\n",
       "</div>"
      ],
      "text/plain": [
       "         id   host_id            neighbourhood        room_type  \\\n",
       "0 -0.678042 -0.750180  De Pijp - Rivierenbuurt  Entire home/apt   \n",
       "1 -0.539380 -0.661102                 Oud-Oost  Entire home/apt   \n",
       "2  1.720949  2.019252             Centrum-West  Entire home/apt   \n",
       "3 -0.989062 -0.780519               Westerpark  Entire home/apt   \n",
       "4  0.616462 -0.266259               Westerpark     Private room   \n",
       "\n",
       "   minimum_nights  calculated_host_listings_count  availability_365     price  \n",
       "0       -0.035801                       -0.189366         -0.568531  0.225910  \n",
       "1        0.030190                       -0.189366         -0.568531 -0.242602  \n",
       "2       -0.101793                       -0.189366         -0.503706 -0.285194  \n",
       "3       -0.035801                       -0.189366         -0.568531 -0.157418  \n",
       "4       -0.101793                       -0.189366         -0.346276 -0.327787  "
      ]
     },
     "execution_count": 117,
     "metadata": {},
     "output_type": "execute_result"
    }
   ],
   "source": [
    "data[['id','host_id']] = ss.fit_transform(data[['id','host_id']])\n",
    "data.head()"
   ]
  },
  {
   "cell_type": "code",
   "execution_count": 118,
   "id": "287879f6",
   "metadata": {},
   "outputs": [
    {
     "data": {
      "text/plain": [
       "array(['Entire home/apt', 'Private room', 'Shared room', 'Hotel room'],\n",
       "      dtype=object)"
      ]
     },
     "execution_count": 118,
     "metadata": {},
     "output_type": "execute_result"
    }
   ],
   "source": [
    "data['room_type'].unique()"
   ]
  },
  {
   "cell_type": "code",
   "execution_count": 119,
   "id": "59cb834d",
   "metadata": {},
   "outputs": [
    {
     "data": {
      "text/html": [
       "<div>\n",
       "<style scoped>\n",
       "    .dataframe tbody tr th:only-of-type {\n",
       "        vertical-align: middle;\n",
       "    }\n",
       "\n",
       "    .dataframe tbody tr th {\n",
       "        vertical-align: top;\n",
       "    }\n",
       "\n",
       "    .dataframe thead th {\n",
       "        text-align: right;\n",
       "    }\n",
       "</style>\n",
       "<table border=\"1\" class=\"dataframe\">\n",
       "  <thead>\n",
       "    <tr style=\"text-align: right;\">\n",
       "      <th></th>\n",
       "      <th>Entire home/apt</th>\n",
       "      <th>Hotel room</th>\n",
       "      <th>Private room</th>\n",
       "      <th>Shared room</th>\n",
       "    </tr>\n",
       "  </thead>\n",
       "  <tbody>\n",
       "    <tr>\n",
       "      <th>0</th>\n",
       "      <td>1</td>\n",
       "      <td>0</td>\n",
       "      <td>0</td>\n",
       "      <td>0</td>\n",
       "    </tr>\n",
       "    <tr>\n",
       "      <th>1</th>\n",
       "      <td>1</td>\n",
       "      <td>0</td>\n",
       "      <td>0</td>\n",
       "      <td>0</td>\n",
       "    </tr>\n",
       "    <tr>\n",
       "      <th>2</th>\n",
       "      <td>1</td>\n",
       "      <td>0</td>\n",
       "      <td>0</td>\n",
       "      <td>0</td>\n",
       "    </tr>\n",
       "    <tr>\n",
       "      <th>3</th>\n",
       "      <td>1</td>\n",
       "      <td>0</td>\n",
       "      <td>0</td>\n",
       "      <td>0</td>\n",
       "    </tr>\n",
       "    <tr>\n",
       "      <th>4</th>\n",
       "      <td>0</td>\n",
       "      <td>0</td>\n",
       "      <td>1</td>\n",
       "      <td>0</td>\n",
       "    </tr>\n",
       "  </tbody>\n",
       "</table>\n",
       "</div>"
      ],
      "text/plain": [
       "   Entire home/apt  Hotel room  Private room  Shared room\n",
       "0                1           0             0            0\n",
       "1                1           0             0            0\n",
       "2                1           0             0            0\n",
       "3                1           0             0            0\n",
       "4                0           0             1            0"
      ]
     },
     "execution_count": 119,
     "metadata": {},
     "output_type": "execute_result"
    }
   ],
   "source": [
    "data_ohe = pd.get_dummies(data['room_type'])\n",
    "data_ohe.head()"
   ]
  },
  {
   "cell_type": "code",
   "execution_count": 120,
   "id": "a4828fe6",
   "metadata": {},
   "outputs": [
    {
     "data": {
      "text/html": [
       "<div>\n",
       "<style scoped>\n",
       "    .dataframe tbody tr th:only-of-type {\n",
       "        vertical-align: middle;\n",
       "    }\n",
       "\n",
       "    .dataframe tbody tr th {\n",
       "        vertical-align: top;\n",
       "    }\n",
       "\n",
       "    .dataframe thead th {\n",
       "        text-align: right;\n",
       "    }\n",
       "</style>\n",
       "<table border=\"1\" class=\"dataframe\">\n",
       "  <thead>\n",
       "    <tr style=\"text-align: right;\">\n",
       "      <th></th>\n",
       "      <th>id</th>\n",
       "      <th>host_id</th>\n",
       "      <th>neighbourhood</th>\n",
       "      <th>room_type</th>\n",
       "      <th>minimum_nights</th>\n",
       "      <th>calculated_host_listings_count</th>\n",
       "      <th>availability_365</th>\n",
       "      <th>price</th>\n",
       "      <th>Entire home/apt</th>\n",
       "      <th>Hotel room</th>\n",
       "      <th>Private room</th>\n",
       "      <th>Shared room</th>\n",
       "    </tr>\n",
       "  </thead>\n",
       "  <tbody>\n",
       "    <tr>\n",
       "      <th>0</th>\n",
       "      <td>-0.678042</td>\n",
       "      <td>-0.750180</td>\n",
       "      <td>De Pijp - Rivierenbuurt</td>\n",
       "      <td>Entire home/apt</td>\n",
       "      <td>-0.035801</td>\n",
       "      <td>-0.189366</td>\n",
       "      <td>-0.568531</td>\n",
       "      <td>0.225910</td>\n",
       "      <td>1</td>\n",
       "      <td>0</td>\n",
       "      <td>0</td>\n",
       "      <td>0</td>\n",
       "    </tr>\n",
       "    <tr>\n",
       "      <th>1</th>\n",
       "      <td>-0.539380</td>\n",
       "      <td>-0.661102</td>\n",
       "      <td>Oud-Oost</td>\n",
       "      <td>Entire home/apt</td>\n",
       "      <td>0.030190</td>\n",
       "      <td>-0.189366</td>\n",
       "      <td>-0.568531</td>\n",
       "      <td>-0.242602</td>\n",
       "      <td>1</td>\n",
       "      <td>0</td>\n",
       "      <td>0</td>\n",
       "      <td>0</td>\n",
       "    </tr>\n",
       "    <tr>\n",
       "      <th>2</th>\n",
       "      <td>1.720949</td>\n",
       "      <td>2.019252</td>\n",
       "      <td>Centrum-West</td>\n",
       "      <td>Entire home/apt</td>\n",
       "      <td>-0.101793</td>\n",
       "      <td>-0.189366</td>\n",
       "      <td>-0.503706</td>\n",
       "      <td>-0.285194</td>\n",
       "      <td>1</td>\n",
       "      <td>0</td>\n",
       "      <td>0</td>\n",
       "      <td>0</td>\n",
       "    </tr>\n",
       "    <tr>\n",
       "      <th>3</th>\n",
       "      <td>-0.989062</td>\n",
       "      <td>-0.780519</td>\n",
       "      <td>Westerpark</td>\n",
       "      <td>Entire home/apt</td>\n",
       "      <td>-0.035801</td>\n",
       "      <td>-0.189366</td>\n",
       "      <td>-0.568531</td>\n",
       "      <td>-0.157418</td>\n",
       "      <td>1</td>\n",
       "      <td>0</td>\n",
       "      <td>0</td>\n",
       "      <td>0</td>\n",
       "    </tr>\n",
       "    <tr>\n",
       "      <th>4</th>\n",
       "      <td>0.616462</td>\n",
       "      <td>-0.266259</td>\n",
       "      <td>Westerpark</td>\n",
       "      <td>Private room</td>\n",
       "      <td>-0.101793</td>\n",
       "      <td>-0.189366</td>\n",
       "      <td>-0.346276</td>\n",
       "      <td>-0.327787</td>\n",
       "      <td>0</td>\n",
       "      <td>0</td>\n",
       "      <td>1</td>\n",
       "      <td>0</td>\n",
       "    </tr>\n",
       "  </tbody>\n",
       "</table>\n",
       "</div>"
      ],
      "text/plain": [
       "         id   host_id            neighbourhood        room_type  \\\n",
       "0 -0.678042 -0.750180  De Pijp - Rivierenbuurt  Entire home/apt   \n",
       "1 -0.539380 -0.661102                 Oud-Oost  Entire home/apt   \n",
       "2  1.720949  2.019252             Centrum-West  Entire home/apt   \n",
       "3 -0.989062 -0.780519               Westerpark  Entire home/apt   \n",
       "4  0.616462 -0.266259               Westerpark     Private room   \n",
       "\n",
       "   minimum_nights  calculated_host_listings_count  availability_365     price  \\\n",
       "0       -0.035801                       -0.189366         -0.568531  0.225910   \n",
       "1        0.030190                       -0.189366         -0.568531 -0.242602   \n",
       "2       -0.101793                       -0.189366         -0.503706 -0.285194   \n",
       "3       -0.035801                       -0.189366         -0.568531 -0.157418   \n",
       "4       -0.101793                       -0.189366         -0.346276 -0.327787   \n",
       "\n",
       "   Entire home/apt  Hotel room  Private room  Shared room  \n",
       "0                1           0             0            0  \n",
       "1                1           0             0            0  \n",
       "2                1           0             0            0  \n",
       "3                1           0             0            0  \n",
       "4                0           0             1            0  "
      ]
     },
     "execution_count": 120,
     "metadata": {},
     "output_type": "execute_result"
    }
   ],
   "source": [
    "data = pd.concat([data,data_ohe], axis=1)\n",
    "data.head()"
   ]
  },
  {
   "cell_type": "code",
   "execution_count": 121,
   "id": "5ec67bac",
   "metadata": {},
   "outputs": [
    {
     "data": {
      "text/html": [
       "<div>\n",
       "<style scoped>\n",
       "    .dataframe tbody tr th:only-of-type {\n",
       "        vertical-align: middle;\n",
       "    }\n",
       "\n",
       "    .dataframe tbody tr th {\n",
       "        vertical-align: top;\n",
       "    }\n",
       "\n",
       "    .dataframe thead th {\n",
       "        text-align: right;\n",
       "    }\n",
       "</style>\n",
       "<table border=\"1\" class=\"dataframe\">\n",
       "  <thead>\n",
       "    <tr style=\"text-align: right;\">\n",
       "      <th></th>\n",
       "      <th>id</th>\n",
       "      <th>host_id</th>\n",
       "      <th>neighbourhood</th>\n",
       "      <th>minimum_nights</th>\n",
       "      <th>calculated_host_listings_count</th>\n",
       "      <th>availability_365</th>\n",
       "      <th>price</th>\n",
       "      <th>Entire home/apt</th>\n",
       "      <th>Hotel room</th>\n",
       "      <th>Private room</th>\n",
       "      <th>Shared room</th>\n",
       "    </tr>\n",
       "  </thead>\n",
       "  <tbody>\n",
       "    <tr>\n",
       "      <th>0</th>\n",
       "      <td>-0.678042</td>\n",
       "      <td>-0.750180</td>\n",
       "      <td>De Pijp - Rivierenbuurt</td>\n",
       "      <td>-0.035801</td>\n",
       "      <td>-0.189366</td>\n",
       "      <td>-0.568531</td>\n",
       "      <td>0.225910</td>\n",
       "      <td>1</td>\n",
       "      <td>0</td>\n",
       "      <td>0</td>\n",
       "      <td>0</td>\n",
       "    </tr>\n",
       "    <tr>\n",
       "      <th>1</th>\n",
       "      <td>-0.539380</td>\n",
       "      <td>-0.661102</td>\n",
       "      <td>Oud-Oost</td>\n",
       "      <td>0.030190</td>\n",
       "      <td>-0.189366</td>\n",
       "      <td>-0.568531</td>\n",
       "      <td>-0.242602</td>\n",
       "      <td>1</td>\n",
       "      <td>0</td>\n",
       "      <td>0</td>\n",
       "      <td>0</td>\n",
       "    </tr>\n",
       "    <tr>\n",
       "      <th>2</th>\n",
       "      <td>1.720949</td>\n",
       "      <td>2.019252</td>\n",
       "      <td>Centrum-West</td>\n",
       "      <td>-0.101793</td>\n",
       "      <td>-0.189366</td>\n",
       "      <td>-0.503706</td>\n",
       "      <td>-0.285194</td>\n",
       "      <td>1</td>\n",
       "      <td>0</td>\n",
       "      <td>0</td>\n",
       "      <td>0</td>\n",
       "    </tr>\n",
       "    <tr>\n",
       "      <th>3</th>\n",
       "      <td>-0.989062</td>\n",
       "      <td>-0.780519</td>\n",
       "      <td>Westerpark</td>\n",
       "      <td>-0.035801</td>\n",
       "      <td>-0.189366</td>\n",
       "      <td>-0.568531</td>\n",
       "      <td>-0.157418</td>\n",
       "      <td>1</td>\n",
       "      <td>0</td>\n",
       "      <td>0</td>\n",
       "      <td>0</td>\n",
       "    </tr>\n",
       "    <tr>\n",
       "      <th>4</th>\n",
       "      <td>0.616462</td>\n",
       "      <td>-0.266259</td>\n",
       "      <td>Westerpark</td>\n",
       "      <td>-0.101793</td>\n",
       "      <td>-0.189366</td>\n",
       "      <td>-0.346276</td>\n",
       "      <td>-0.327787</td>\n",
       "      <td>0</td>\n",
       "      <td>0</td>\n",
       "      <td>1</td>\n",
       "      <td>0</td>\n",
       "    </tr>\n",
       "  </tbody>\n",
       "</table>\n",
       "</div>"
      ],
      "text/plain": [
       "         id   host_id            neighbourhood  minimum_nights  \\\n",
       "0 -0.678042 -0.750180  De Pijp - Rivierenbuurt       -0.035801   \n",
       "1 -0.539380 -0.661102                 Oud-Oost        0.030190   \n",
       "2  1.720949  2.019252             Centrum-West       -0.101793   \n",
       "3 -0.989062 -0.780519               Westerpark       -0.035801   \n",
       "4  0.616462 -0.266259               Westerpark       -0.101793   \n",
       "\n",
       "   calculated_host_listings_count  availability_365     price  \\\n",
       "0                       -0.189366         -0.568531  0.225910   \n",
       "1                       -0.189366         -0.568531 -0.242602   \n",
       "2                       -0.189366         -0.503706 -0.285194   \n",
       "3                       -0.189366         -0.568531 -0.157418   \n",
       "4                       -0.189366         -0.346276 -0.327787   \n",
       "\n",
       "   Entire home/apt  Hotel room  Private room  Shared room  \n",
       "0                1           0             0            0  \n",
       "1                1           0             0            0  \n",
       "2                1           0             0            0  \n",
       "3                1           0             0            0  \n",
       "4                0           0             1            0  "
      ]
     },
     "execution_count": 121,
     "metadata": {},
     "output_type": "execute_result"
    }
   ],
   "source": [
    "data= data.drop('room_type', axis=1)\n",
    "data.head()"
   ]
  },
  {
   "cell_type": "code",
   "execution_count": 122,
   "id": "d91c2a65",
   "metadata": {},
   "outputs": [
    {
     "data": {
      "text/plain": [
       "array(['De Pijp - Rivierenbuurt', 'Oud-Oost', 'Centrum-West',\n",
       "       'Westerpark', 'Centrum-Oost', 'De Baarsjes - Oud-West',\n",
       "       'Noord-West', 'Bos en Lommer', 'De Aker - Nieuw Sloten',\n",
       "       'Oostelijk Havengebied - Indische Buurt', 'Bijlmer-Centrum',\n",
       "       'Watergraafsmeer', 'Slotervaart', 'Osdorp', 'Zuid',\n",
       "       'Geuzenveld - Slotermeer', 'Oud-Noord', 'Buitenveldert - Zuidas',\n",
       "       'IJburg - Zeeburgereiland', 'Noord-Oost', 'Gaasperdam - Driemond',\n",
       "       'Bijlmer-Oost'], dtype=object)"
      ]
     },
     "execution_count": 122,
     "metadata": {},
     "output_type": "execute_result"
    }
   ],
   "source": [
    "data['neighbourhood'].unique()"
   ]
  },
  {
   "cell_type": "code",
   "execution_count": 123,
   "id": "2d6059fb",
   "metadata": {},
   "outputs": [],
   "source": [
    "#convert to category dtype\n",
    "data['neighbourhood'] = data['neighbourhood'].astype('category')"
   ]
  },
  {
   "cell_type": "code",
   "execution_count": 124,
   "id": "2dbb31df",
   "metadata": {},
   "outputs": [],
   "source": [
    "#use .cat.codes to create new colums with encoded value\n",
    "data['neighbourhood'] = data['neighbourhood'].cat.codes"
   ]
  },
  {
   "cell_type": "code",
   "execution_count": 125,
   "id": "9c72d12c",
   "metadata": {},
   "outputs": [
    {
     "data": {
      "text/plain": [
       "7     2209\n",
       "8     1600\n",
       "5     1429\n",
       "4     1097\n",
       "20     958\n",
       "21     924\n",
       "17     831\n",
       "2      730\n",
       "14     644\n",
       "19     381\n",
       "16     376\n",
       "11     321\n",
       "18     269\n",
       "13     257\n",
       "12     171\n",
       "3      155\n",
       "10     144\n",
       "6       88\n",
       "15      83\n",
       "9       80\n",
       "0       78\n",
       "1       76\n",
       "Name: neighbourhood, dtype: int64"
      ]
     },
     "execution_count": 125,
     "metadata": {},
     "output_type": "execute_result"
    }
   ],
   "source": [
    "data['neighbourhood'].value_counts()"
   ]
  },
  {
   "cell_type": "code",
   "execution_count": 126,
   "id": "fb07da9f",
   "metadata": {},
   "outputs": [
    {
     "data": {
      "text/html": [
       "<div>\n",
       "<style scoped>\n",
       "    .dataframe tbody tr th:only-of-type {\n",
       "        vertical-align: middle;\n",
       "    }\n",
       "\n",
       "    .dataframe tbody tr th {\n",
       "        vertical-align: top;\n",
       "    }\n",
       "\n",
       "    .dataframe thead th {\n",
       "        text-align: right;\n",
       "    }\n",
       "</style>\n",
       "<table border=\"1\" class=\"dataframe\">\n",
       "  <thead>\n",
       "    <tr style=\"text-align: right;\">\n",
       "      <th></th>\n",
       "      <th>id</th>\n",
       "      <th>host_id</th>\n",
       "      <th>neighbourhood</th>\n",
       "      <th>minimum_nights</th>\n",
       "      <th>calculated_host_listings_count</th>\n",
       "      <th>availability_365</th>\n",
       "      <th>price</th>\n",
       "      <th>Entire home/apt</th>\n",
       "      <th>Hotel room</th>\n",
       "      <th>Private room</th>\n",
       "      <th>Shared room</th>\n",
       "    </tr>\n",
       "  </thead>\n",
       "  <tbody>\n",
       "    <tr>\n",
       "      <th>0</th>\n",
       "      <td>-0.678042</td>\n",
       "      <td>-0.750180</td>\n",
       "      <td>8</td>\n",
       "      <td>-0.035801</td>\n",
       "      <td>-0.189366</td>\n",
       "      <td>-0.568531</td>\n",
       "      <td>0.225910</td>\n",
       "      <td>1</td>\n",
       "      <td>0</td>\n",
       "      <td>0</td>\n",
       "      <td>0</td>\n",
       "    </tr>\n",
       "    <tr>\n",
       "      <th>1</th>\n",
       "      <td>-0.539380</td>\n",
       "      <td>-0.661102</td>\n",
       "      <td>17</td>\n",
       "      <td>0.030190</td>\n",
       "      <td>-0.189366</td>\n",
       "      <td>-0.568531</td>\n",
       "      <td>-0.242602</td>\n",
       "      <td>1</td>\n",
       "      <td>0</td>\n",
       "      <td>0</td>\n",
       "      <td>0</td>\n",
       "    </tr>\n",
       "    <tr>\n",
       "      <th>2</th>\n",
       "      <td>1.720949</td>\n",
       "      <td>2.019252</td>\n",
       "      <td>5</td>\n",
       "      <td>-0.101793</td>\n",
       "      <td>-0.189366</td>\n",
       "      <td>-0.503706</td>\n",
       "      <td>-0.285194</td>\n",
       "      <td>1</td>\n",
       "      <td>0</td>\n",
       "      <td>0</td>\n",
       "      <td>0</td>\n",
       "    </tr>\n",
       "    <tr>\n",
       "      <th>3</th>\n",
       "      <td>-0.989062</td>\n",
       "      <td>-0.780519</td>\n",
       "      <td>20</td>\n",
       "      <td>-0.035801</td>\n",
       "      <td>-0.189366</td>\n",
       "      <td>-0.568531</td>\n",
       "      <td>-0.157418</td>\n",
       "      <td>1</td>\n",
       "      <td>0</td>\n",
       "      <td>0</td>\n",
       "      <td>0</td>\n",
       "    </tr>\n",
       "    <tr>\n",
       "      <th>4</th>\n",
       "      <td>0.616462</td>\n",
       "      <td>-0.266259</td>\n",
       "      <td>20</td>\n",
       "      <td>-0.101793</td>\n",
       "      <td>-0.189366</td>\n",
       "      <td>-0.346276</td>\n",
       "      <td>-0.327787</td>\n",
       "      <td>0</td>\n",
       "      <td>0</td>\n",
       "      <td>1</td>\n",
       "      <td>0</td>\n",
       "    </tr>\n",
       "  </tbody>\n",
       "</table>\n",
       "</div>"
      ],
      "text/plain": [
       "         id   host_id  neighbourhood  minimum_nights  \\\n",
       "0 -0.678042 -0.750180              8       -0.035801   \n",
       "1 -0.539380 -0.661102             17        0.030190   \n",
       "2  1.720949  2.019252              5       -0.101793   \n",
       "3 -0.989062 -0.780519             20       -0.035801   \n",
       "4  0.616462 -0.266259             20       -0.101793   \n",
       "\n",
       "   calculated_host_listings_count  availability_365     price  \\\n",
       "0                       -0.189366         -0.568531  0.225910   \n",
       "1                       -0.189366         -0.568531 -0.242602   \n",
       "2                       -0.189366         -0.503706 -0.285194   \n",
       "3                       -0.189366         -0.568531 -0.157418   \n",
       "4                       -0.189366         -0.346276 -0.327787   \n",
       "\n",
       "   Entire home/apt  Hotel room  Private room  Shared room  \n",
       "0                1           0             0            0  \n",
       "1                1           0             0            0  \n",
       "2                1           0             0            0  \n",
       "3                1           0             0            0  \n",
       "4                0           0             1            0  "
      ]
     },
     "execution_count": 126,
     "metadata": {},
     "output_type": "execute_result"
    }
   ],
   "source": [
    "data.head()"
   ]
  },
  {
   "cell_type": "code",
   "execution_count": null,
   "id": "e243a086",
   "metadata": {},
   "outputs": [],
   "source": []
  },
  {
   "cell_type": "markdown",
   "id": "c8ccb803",
   "metadata": {},
   "source": [
    "## Step 4: Separate X and Y"
   ]
  },
  {
   "cell_type": "code",
   "execution_count": 127,
   "id": "b1690a16",
   "metadata": {},
   "outputs": [],
   "source": [
    "x= data.drop('price',axis=1)\n",
    "y= data['price']"
   ]
  },
  {
   "cell_type": "markdown",
   "id": "ec6b501c",
   "metadata": {},
   "source": [
    "## Step 5: Split data into train and test set"
   ]
  },
  {
   "cell_type": "code",
   "execution_count": 128,
   "id": "7ba087b5",
   "metadata": {},
   "outputs": [],
   "source": [
    "from sklearn.model_selection import train_test_split\n",
    "x_train, x_test, y_train, y_test = train_test_split(x,y, test_size=0.2, random_state=0)"
   ]
  },
  {
   "cell_type": "code",
   "execution_count": null,
   "id": "1e3cef64",
   "metadata": {},
   "outputs": [],
   "source": []
  },
  {
   "cell_type": "markdown",
   "id": "3e3bbd10",
   "metadata": {},
   "source": [
    "## Step 6: Apply ML algorithm"
   ]
  },
  {
   "cell_type": "code",
   "execution_count": 129,
   "id": "ddeaea0a",
   "metadata": {},
   "outputs": [
    {
     "data": {
      "text/plain": [
       "LinearRegression()"
      ]
     },
     "execution_count": 129,
     "metadata": {},
     "output_type": "execute_result"
    }
   ],
   "source": [
    "from sklearn.linear_model import LinearRegression\n",
    "lr = LinearRegression()\n",
    "lr"
   ]
  },
  {
   "cell_type": "code",
   "execution_count": 130,
   "id": "39584a98",
   "metadata": {},
   "outputs": [
    {
     "data": {
      "text/plain": [
       "LinearRegression()"
      ]
     },
     "execution_count": 130,
     "metadata": {},
     "output_type": "execute_result"
    }
   ],
   "source": [
    "lr.fit(x_train, y_train)"
   ]
  },
  {
   "cell_type": "markdown",
   "id": "bc5f3ae7",
   "metadata": {},
   "source": [
    "## Step7: Prediction"
   ]
  },
  {
   "cell_type": "code",
   "execution_count": 132,
   "id": "8b108561",
   "metadata": {},
   "outputs": [
    {
     "data": {
      "text/plain": [
       "array([ 0.3553094 ,  0.072164  , -0.4239195 , ..., -0.00998758,\n",
       "       -0.33807008,  0.25300539])"
      ]
     },
     "execution_count": 132,
     "metadata": {},
     "output_type": "execute_result"
    }
   ],
   "source": [
    "y_pred = lr.predict(x_test)\n",
    "y_pred"
   ]
  },
  {
   "cell_type": "markdown",
   "id": "4d777735",
   "metadata": {},
   "source": [
    "## Step 8: Evaluation"
   ]
  },
  {
   "cell_type": "code",
   "execution_count": 133,
   "id": "b93bb0cc",
   "metadata": {},
   "outputs": [
    {
     "data": {
      "text/plain": [
       "0.025771078849417872"
      ]
     },
     "execution_count": 133,
     "metadata": {},
     "output_type": "execute_result"
    }
   ],
   "source": [
    "from sklearn.metrics import r2_score\n",
    "accuracy = r2_score(y_test,y_pred)\n",
    "accuracy"
   ]
  },
  {
   "cell_type": "code",
   "execution_count": 138,
   "id": "a506d149",
   "metadata": {},
   "outputs": [
    {
     "data": {
      "text/plain": [
       "2.577107884941787"
      ]
     },
     "execution_count": 138,
     "metadata": {},
     "output_type": "execute_result"
    }
   ],
   "source": [
    "0.025771078849417872*100"
   ]
  },
  {
   "cell_type": "markdown",
   "id": "626bf690",
   "metadata": {},
   "source": [
    "- accuracy is 2.5% \n",
    "- accuracy score is very low.\n",
    "- Logistic Regression algorithm not suitable for this dataset."
   ]
  },
  {
   "cell_type": "code",
   "execution_count": 139,
   "id": "24025330",
   "metadata": {},
   "outputs": [
    {
     "data": {
      "text/plain": [
       "array([0.04862811, 0.06599158, 0.02829064, 0.05190067, 0.02977489])"
      ]
     },
     "execution_count": 139,
     "metadata": {},
     "output_type": "execute_result"
    }
   ],
   "source": [
    "from sklearn.model_selection import cross_val_score\n",
    "cross_val_score(lr,x,y,cv=5)"
   ]
  },
  {
   "cell_type": "code",
   "execution_count": null,
   "id": "d868dd02",
   "metadata": {},
   "outputs": [],
   "source": [
    "1st acuracy = 4.8% 2nd accuracy = 6.5% 3rd accuracy = 2.8% 4th accuracy = 5.2% 5th accuracy = 3%\n",
    "\n",
    "Out of all 5 accuracies is very low."
   ]
  }
 ],
 "metadata": {
  "kernelspec": {
   "display_name": "Python 3 (ipykernel)",
   "language": "python",
   "name": "python3"
  },
  "language_info": {
   "codemirror_mode": {
    "name": "ipython",
    "version": 3
   },
   "file_extension": ".py",
   "mimetype": "text/x-python",
   "name": "python",
   "nbconvert_exporter": "python",
   "pygments_lexer": "ipython3",
   "version": "3.9.13"
  }
 },
 "nbformat": 4,
 "nbformat_minor": 5
}
